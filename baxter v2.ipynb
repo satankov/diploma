{
 "cells": [
  {
   "cell_type": "markdown",
   "metadata": {},
   "source": [
    "### Модель Бакстера-Ву\n",
    "#### Часть 1\n",
    "1. Треугольная решетка с переодическими гран. условиями\n",
    "2. Реализовать алгоритм Метрополис\n",
    "3. Посчитать энергию на связь\n",
    "\n",
    "#### Треугольная решетка с периодическими гран. условиями\n",
    "Имеет вид\n",
    "\\begin{array}{cccc}\n",
    "&&& \\sigma_1 && \\sigma_2 && \\sigma_3\\\\\n",
    "&& \\sigma_4 && \\sigma_5 && \\sigma_6\\\\\n",
    "& \\sigma_7 && \\sigma_8 && \\sigma_9\\\\\n",
    "\\end{array}\n",
    "\n",
    "И может быть представлена в виде двумерного массива со связями\n",
    "\n",
    "\\begin{array}{cccc}\n",
    "\\sigma_1 && \\sigma_2 && \\sigma_3\\\\\n",
    "\\sigma_4 && \\sigma_5 && \\sigma_6\\\\\n",
    "\\sigma_7 && \\sigma_8 && \\sigma_9\\\\\n",
    "\\end{array}"
   ]
  },
  {
   "cell_type": "code",
   "execution_count": 15,
   "metadata": {
    "ExecuteTime": {
     "end_time": "2019-10-31T19:59:20.878497Z",
     "start_time": "2019-10-31T19:59:20.357786Z"
    }
   },
   "outputs": [],
   "source": [
    "import numpy as np\n",
    "import random as rnd\n",
    "import time\n",
    "import matplotlib\n",
    "import matplotlib.pyplot as plt"
   ]
  },
  {
   "cell_type": "code",
   "execution_count": 71,
   "metadata": {
    "ExecuteTime": {
     "end_time": "2019-10-31T21:42:50.668877Z",
     "start_time": "2019-10-31T21:42:45.758673Z"
    }
   },
   "outputs": [
    {
     "name": "stdout",
     "output_type": "stream",
     "text": [
      "T= 1.3 : in 0.34230804443359375 sec\n",
      "T= 1.45 : in 0.3539559841156006 sec\n",
      "T= 1.6 : in 0.3552381992340088 sec\n",
      "T= 1.75 : in 0.35630297660827637 sec\n",
      "T= 1.9 : in 0.3518249988555908 sec\n",
      "T= 2.05 : in 0.36372804641723633 sec\n",
      "T= 2.2 : in 0.3456399440765381 sec\n",
      "T= 2.35 : in 0.32950496673583984 sec\n",
      "T= 2.5 : in 0.3525857925415039 sec\n",
      "T= 2.65 : in 0.34597086906433105 sec\n",
      "T= 2.8 : in 0.34975314140319824 sec\n",
      "T= 2.95 : in 0.3455641269683838 sec\n",
      "T= 3.1 : in 0.35167407989501953 sec\n",
      "T= 3.25 : in 0.3307619094848633 sec\n"
     ]
    }
   ],
   "source": [
    "class BW:\n",
    "    def __init__(self, L, state):\n",
    "        self.L = L\n",
    "        self.J = 1      \n",
    "        self.N_relax = 10**3\n",
    "        self.N_avg = 10**3\n",
    "        self.state = state\n",
    "        \n",
    "        self.mask = create_mask(L)\n",
    "        \n",
    "        self.e = []    \n",
    "        self.m = []                                     \n",
    "\n",
    "    def clear(self):\n",
    "        \"\"\"Reinitialize the data structures for the next query after the previous query.\"\"\"\n",
    "        self.e = []    \n",
    "        self.m = [] \n",
    "        pass\n",
    "\n",
    "    def get_jk(self):\n",
    "        \"\"\"get random spin in Metropolis Alg.\"\"\"\n",
    "        return rnd.randint(0, self.L-1), rnd.randint(0, self.L-1)\n",
    "    \n",
    "    def calc_ejk(self,st,j,k):\n",
    "        \"\"\"вычисляет энергию спина j,k\n",
    "        a:  add last line to TOP, first to BOTTOM\n",
    "        s:  add left line to RIGHT, last to LEFT\"\"\"\n",
    "        a = np.concatenate((st[self.L-1].reshape(1,self.L), st, st[0].reshape(1,self.L)), axis=0) \n",
    "        s = np.concatenate((a[:,-1].reshape(self.L+2,1),a,a[:,0].reshape(self.L+2,1)), axis=1)   \n",
    "        summa = (\n",
    "            s[j,k-1]*s[j+1,k] +\n",
    "            s[j+1,k]*s[j+1,k+1] +\n",
    "            s[j+1,k+1]*s[j,k+1] +\n",
    "            s[j,k+1]*s[j-1,k] +\n",
    "            s[j-1,k]*s[j-1,k-1] +\n",
    "            s[j-1,k-1]*s[j,k-1]\n",
    "        )\n",
    "        return -s[j,k]*summa\n",
    "    \n",
    "    def flip(self,j,k):\n",
    "        \"\"\"перевернуть спин j,k\"\"\"\n",
    "        self.state[j,k] *= -1\n",
    "        pass\n",
    "        \n",
    "    def step(self, K):\n",
    "        \"\"\"perform 1 Metropolis step\"\"\"\n",
    "        j,k = self.get_jk()\n",
    "        e_jk = self.calc_ejk(self.state,j+1,k+1)\n",
    "        if e_jk > 0:\n",
    "            self.flip(j,k)\n",
    "        elif rnd.uniform(1,0) <= np.exp(2*e_jk*K): #uniformly distributed over interval [low, high)\n",
    "            self.flip(j,k)\n",
    "        pass\n",
    "            \n",
    "    def calc_e(self, st):\n",
    "        \"\"\"calculate energy per site\n",
    "            # expland state matrix\"\"\"\n",
    "        a = np.concatenate((st[self.L-1].reshape(1,self.L), st, st[0].reshape(1,self.L)), axis=0) \n",
    "        b = np.concatenate((a[:,-1].reshape(self.L+2,1),a,a[:,0].reshape(self.L+2,1)), axis=1)\n",
    "        return -np.sum(b[1:-1, 1:-1]*b[2:, 2:]*(b[2:, 1:-1]+b[1:-1, 2:]))/(self.L*self.L)  \n",
    "\n",
    "    def calc_ms(self, st):\n",
    "        \"\"\"magnetization\"\"\"\n",
    "        msr = np.array([np.sum(st[self.mask==i]) for i in [0,1,2]])/(self.L*self.L)\n",
    "        return np.sqrt(np.sum(msr*msr))\n",
    "    \n",
    "    def calc_c(self, T):\n",
    "        \"\"\"specific heat\"\"\"\n",
    "        e2_ = np.mean(np.array(self.e)**2)   # <e^2> \n",
    "        e_2 = np.mean(self.e)**2             # <e>^2\n",
    "        return self.L*self.L/(T*T)*(e2_ - e_2)\n",
    "\n",
    "    def model(self,T):\n",
    "        self.clear()\n",
    "        K = J/T\n",
    "        for _ in range(self.N_avg):        \n",
    "            for __ in range(self.N_relax):  \n",
    "                self.step(K)\n",
    "            self.e += [self.calc_e(self.state)]\n",
    "            #self.m += [self.calc_ms(self.state)]\n",
    "        return self.calc_c(T)\n",
    "\n",
    "        \n",
    "def gen_state(L):\n",
    "    \"\"\"generate random init. state with lenght L*L and q=[-1,1]\"\"\"\n",
    "    rnd.seed(1234)\n",
    "    return np.array([rnd.choice([-1,1]) for _ in range(L*L)]).reshape(L,L)\n",
    "\n",
    "def create_mask(L):\n",
    "    \"\"\"маска в виде 3 под-решёток\"\"\"\n",
    "    a = np.asarray([i % 3 for i in range(L)])\n",
    "    return (a + a[:, None])%3\n",
    "\n",
    "if __name__ == '__main__':\n",
    "    C = []\n",
    "    L = 18\n",
    "    bw = BW(L, gen_state(L))\n",
    "    t = np.arange(13,33,1.5)/10\n",
    "    for T in t:\n",
    "        st = time.time()\n",
    "        C += [bw.model(T)]\n",
    "        print('T=',T,': in',time.time()-st,'sec')"
   ]
  },
  {
   "cell_type": "code",
   "execution_count": 92,
   "metadata": {
    "ExecuteTime": {
     "end_time": "2019-10-31T21:50:24.410730Z",
     "start_time": "2019-10-31T21:50:23.913125Z"
    }
   },
   "outputs": [
    {
     "data": {
      "image/png": "[encoded data removed]",
      "text/plain": [
       "<Figure size 1296x720 with 1 Axes>"
      ]
     },
     "metadata": {
      "needs_background": "light"
     },
     "output_type": "display_data"
    }
   ],
   "source": [
    "tc = 1/(np.log(2**0.5+1)/2) # 2.269185314213022\n",
    "t1 = (t-tc)/tc\n",
    "plt.figure(figsize=(18, 10))\n",
    "\n",
    "#plt.subplot(2, 1, 1)\n",
    "plt.plot(t1, C, '.-')\n",
    "plt.title('Baxter-Wu/ C - specific heat')\n",
    "plt.ylabel('C(T)')\n",
    "plt.yscale('log')\n",
    "plt.xscale('log')\n",
    "plt.grid(True)"
   ]
  },
  {
   "cell_type": "code",
   "execution_count": 81,
   "metadata": {
    "ExecuteTime": {
     "end_time": "2019-10-31T21:46:51.576150Z",
     "start_time": "2019-10-31T21:46:51.565564Z"
    }
   },
   "outputs": [
    {
     "data": {
      "text/plain": [
       "array([3.68727448, 0.02390511, 0.0579561 , 0.12852735, 0.22317902,\n",
       "       0.4319353 , 1.14436607, 3.91547842, 0.62070341, 0.47799279,\n",
       "       0.35674981, 0.24061561, 0.25223199, 0.21463669])"
      ]
     },
     "execution_count": 81,
     "metadata": {},
     "output_type": "execute_result"
    }
   ],
   "source": [
    "C = np.array([3.687274483161781,\n",
    " 0.02390511002496667,\n",
    " 0.05795609567902023,\n",
    " 0.12852735097020954,\n",
    " 0.2231790157656201,\n",
    " 0.43193530012263365,\n",
    " 1.1443660748903313,\n",
    " 3.915478421049676,\n",
    " 0.6207034074074015,\n",
    " 0.47799279388560123,\n",
    " 0.3567498110355215,\n",
    " 0.240615608541605,\n",
    " 0.25223199085314923,\n",
    " 0.21463668639053388])\n",
    "C"
   ]
  },
  {
   "cell_type": "code",
   "execution_count": 77,
   "metadata": {
    "ExecuteTime": {
     "end_time": "2019-10-31T21:45:58.325453Z",
     "start_time": "2019-10-31T21:45:58.317080Z"
    }
   },
   "outputs": [
    {
     "data": {
      "text/plain": [
       "array([-0.42710717, -0.36100415, -0.29490113, -0.22879811, -0.16269509,\n",
       "       -0.09659207, -0.03048905,  0.03561396,  0.10171698,  0.16782   ,\n",
       "        0.23392302,  0.30002604,  0.36612906,  0.43223208])"
      ]
     },
     "execution_count": 77,
     "metadata": {},
     "output_type": "execute_result"
    }
   ],
   "source": [
    "t1"
   ]
  },
  {
   "cell_type": "code",
   "execution_count": null,
   "metadata": {},
   "outputs": [],
   "source": []
  },
  {
   "cell_type": "code",
   "execution_count": null,
   "metadata": {},
   "outputs": [],
   "source": []
  },
  {
   "cell_type": "code",
   "execution_count": null,
   "metadata": {},
   "outputs": [],
   "source": []
  },
  {
   "cell_type": "code",
   "execution_count": null,
   "metadata": {},
   "outputs": [],
   "source": []
  },
  {
   "cell_type": "code",
   "execution_count": null,
   "metadata": {},
   "outputs": [],
   "source": []
  },
  {
   "cell_type": "code",
   "execution_count": null,
   "metadata": {},
   "outputs": [],
   "source": []
  },
  {
   "cell_type": "code",
   "execution_count": null,
   "metadata": {},
   "outputs": [],
   "source": []
  },
  {
   "cell_type": "code",
   "execution_count": null,
   "metadata": {},
   "outputs": [],
   "source": []
  },
  {
   "cell_type": "code",
   "execution_count": null,
   "metadata": {},
   "outputs": [],
   "source": []
  },
  {
   "cell_type": "code",
   "execution_count": null,
   "metadata": {},
   "outputs": [],
   "source": []
  },
  {
   "cell_type": "code",
   "execution_count": null,
   "metadata": {},
   "outputs": [],
   "source": []
  },
  {
   "cell_type": "code",
   "execution_count": null,
   "metadata": {},
   "outputs": [],
   "source": []
  },
  {
   "cell_type": "markdown",
   "metadata": {},
   "source": [
    "### Черновик"
   ]
  },
  {
   "cell_type": "code",
   "execution_count": 9,
   "metadata": {
    "ExecuteTime": {
     "end_time": "2019-10-31T19:55:36.698893Z",
     "start_time": "2019-10-31T19:55:36.681623Z"
    }
   },
   "outputs": [],
   "source": [
    "def gen_state(L, q):\n",
    "#generate random init. state with lenght L*L and q=[-1,1]\n",
    "    rnd.seed(1234)\n",
    "    state = np.array([rnd.choice(q) for _ in range(L*L)]).reshape(L,L)\n",
    "    #np.random.seed(None)\n",
    "    return state\n",
    "\n",
    "def get_jk():\n",
    "#get random spin in Metropolis Alg.\n",
    "    return rnd.randint(0, L-1), rnd.randint(0, L-1)\n",
    "\n",
    "def calc_e(state):\n",
    "    a = np.concatenate((state[L-1].reshape(1,L), state, state[0].reshape(1,L)), axis=0) \n",
    "    b = np.concatenate((a[:,-1].reshape(L+2,1),a,a[:,0].reshape(L+2,1)), axis=1)\n",
    "    return -np.sum(b[1:-1, 1:-1]*b[2:, 2:]*(b[2:, 1:-1]+b[1:-1, 2:]))/(L*L)  \n"
   ]
  },
  {
   "cell_type": "code",
   "execution_count": null,
   "metadata": {},
   "outputs": [],
   "source": []
  },
  {
   "cell_type": "code",
   "execution_count": null,
   "metadata": {},
   "outputs": [],
   "source": []
  },
  {
   "cell_type": "code",
   "execution_count": null,
   "metadata": {},
   "outputs": [],
   "source": []
  },
  {
   "cell_type": "code",
   "execution_count": null,
   "metadata": {},
   "outputs": [],
   "source": []
  },
  {
   "cell_type": "code",
   "execution_count": null,
   "metadata": {},
   "outputs": [],
   "source": []
  },
  {
   "cell_type": "code",
   "execution_count": null,
   "metadata": {},
   "outputs": [],
   "source": []
  },
  {
   "cell_type": "code",
   "execution_count": null,
   "metadata": {},
   "outputs": [],
   "source": []
  },
  {
   "cell_type": "code",
   "execution_count": null,
   "metadata": {},
   "outputs": [],
   "source": []
  },
  {
   "cell_type": "code",
   "execution_count": null,
   "metadata": {},
   "outputs": [],
   "source": []
  },
  {
   "cell_type": "code",
   "execution_count": null,
   "metadata": {},
   "outputs": [],
   "source": []
  },
  {
   "cell_type": "code",
   "execution_count": null,
   "metadata": {},
   "outputs": [],
   "source": []
  },
  {
   "cell_type": "code",
   "execution_count": null,
   "metadata": {},
   "outputs": [],
   "source": []
  },
  {
   "cell_type": "code",
   "execution_count": null,
   "metadata": {},
   "outputs": [],
   "source": []
  },
  {
   "cell_type": "code",
   "execution_count": null,
   "metadata": {},
   "outputs": [],
   "source": []
  },
  {
   "cell_type": "code",
   "execution_count": null,
   "metadata": {},
   "outputs": [],
   "source": []
  },
  {
   "cell_type": "code",
   "execution_count": null,
   "metadata": {},
   "outputs": [],
   "source": []
  },
  {
   "cell_type": "code",
   "execution_count": null,
   "metadata": {},
   "outputs": [],
   "source": []
  },
  {
   "cell_type": "code",
   "execution_count": null,
   "metadata": {},
   "outputs": [],
   "source": []
  },
  {
   "cell_type": "code",
   "execution_count": null,
   "metadata": {},
   "outputs": [],
   "source": []
  },
  {
   "cell_type": "code",
   "execution_count": null,
   "metadata": {},
   "outputs": [],
   "source": []
  },
  {
   "cell_type": "code",
   "execution_count": null,
   "metadata": {},
   "outputs": [],
   "source": []
  }
 ],
 "metadata": {
  "kernelspec": {
   "display_name": "Python 3",
   "language": "python",
   "name": "python3"
  },
  "language_info": {
   "codemirror_mode": {
    "name": "ipython",
    "version": 3
   },
   "file_extension": ".py",
   "mimetype": "text/x-python",
   "name": "python",
   "nbconvert_exporter": "python",
   "pygments_lexer": "ipython3",
   "version": "3.6.8"
  },
  "toc": {
   "base_numbering": 1,
   "nav_menu": {},
   "number_sections": true,
   "sideBar": true,
   "skip_h1_title": false,
   "title_cell": "Table of Contents",
   "title_sidebar": "Contents",
   "toc_cell": false,
   "toc_position": {},
   "toc_section_display": true,
   "toc_window_display": false
  },
  "varInspector": {
   "cols": {
    "lenName": 16,
    "lenType": 16,
    "lenVar": 40
   },
   "kernels_config": {
    "python": {
     "delete_cmd_postfix": "",
     "delete_cmd_prefix": "del ",
     "library": "var_list.py",
     "varRefreshCmd": "print(var_dic_list())"
    },
    "r": {
     "delete_cmd_postfix": ") ",
     "delete_cmd_prefix": "rm(",
     "library": "var_list.r",
     "varRefreshCmd": "cat(var_dic_list()) "
    }
   },
   "types_to_exclude": [
    "module",
    "function",
    "builtin_function_or_method",
    "instance",
    "_Feature"
   ],
   "window_display": false
  }
 },
 "nbformat": 4,
 "nbformat_minor": 2
}
